{
 "cells": [
  {
   "cell_type": "markdown",
   "metadata": {},
   "source": [
    "***Introduction***"
   ]
  },
  {
   "cell_type": "markdown",
   "metadata": {},
   "source": [
    "For my problem I will be looking at where the best location would be for opening a new Indian Restaurant in the capitol of the state of Rhode Island. Seeing as how Providence is a foodie city, a new Indian restaurant would be welcome and would likely be a profitable venture for investors. However, because Providence does have many restaurants, it's necessary to find an area in the city that has a minimal number of other Indian places but also is an area which is populous and easy to access, which could be indicated by the presence of other types of restaurants. By doing so, revenue for the new restaurant would be maximized as it would be the go-to option in its area. If revenue is maximized, then the investors get a bigger cut!"
   ]
  },
  {
   "cell_type": "markdown",
   "metadata": {},
   "source": [
    "***Data***"
   ]
  },
  {
   "cell_type": "markdown",
   "metadata": {},
   "source": [
    "I will be using Foursquare Location data to find all the Indian Restaurants in Providence, along with all other restaurants. I will cluster this information to find where other non-indian restaurants are concentrated and in relation to them where the best location would be as far being furthest from other Indian Restaurants."
   ]
  },
  {
   "cell_type": "markdown",
   "metadata": {},
   "source": [
    "***Methodology***"
   ]
  },
  {
   "cell_type": "markdown",
   "metadata": {},
   "source": [
    "The first part of the process was to query the Foursquare API and retrieve all the relevant information in JSON format which would be formatted and converted to Pandas dataframes for easy analysis. Because Foursquare limits the number of venues that can be retrieved in one query to a maximum of 50, I performed 4 calls in total. One call specified the category id of \"Indian Restaurant\", the other 3 specified \"Food\" which encompasses all the other food sub-categories that Foursquare uses to organize venues, thus ensuring the most-encompassing query. These 3 queries were placed around the city, and were given an intent of \"browse\" which would prevent the same popular places from being repeatedly listed and would instead provide the nearest venues. After the information was retrieved from Foursquare, the information was converted to Pandas dataframes and unnecessary information was removed. The Indian Restaurants dataframe was slightly cleaned as it included a couple of venues which were incorrectly categorized along with having a number of duplicates. For the most part, the only critical information which was needed was the venue latitude, and longitude coordinates, so the dataframes were simplified until only this remained. This was automated so all 4 were refined at once and iteratively. The 3 broad \"Food\" dataframes were combined into one. These two dataframes were then mapped with Folium so that a general picture of the locations could be seen in the interest of ensuring accuracy. In order to effectively cluster the latitude,longitude coordinates, I decided to use a process which uses DBSCAN from the sklearn module in addition to importing shapely. These modules have special settings in regards to distances that allow them to accurately cluster coordinates whilst avoiding the errors that come up with more general machine learning packages, these are the closest you can get to accurate K-Means clustering of spatial information. K-means is desired as it would provide a point which is as close as possible to being equidistant between all the Indian restaurants. Once the two datasets had been clustered, the center of each cluster was found. The centers of both the Indian Restaurants and Food dataframes were overlaid on top of one another in a new folium map in order to be compared."
   ]
  },
  {
   "cell_type": "markdown",
   "metadata": {},
   "source": [
    "***Results***"
   ]
  },
  {
   "cell_type": "markdown",
   "metadata": {},
   "source": [
    "There were two areas that were of interest as they were those where the centers of the two datasets came close to one another. Of these two, one could likely be disregarded and seen as being the cluster of outliers which were too far beyond Providence to matter. The other of these two however seems to be accurate as it is located within the area that showed a concentration of venues within the first map."
   ]
  },
  {
   "cell_type": "markdown",
   "metadata": {},
   "source": [
    "***Discussion***"
   ]
  },
  {
   "cell_type": "markdown",
   "metadata": {},
   "source": [
    "Based on the results, the prime area for a new Indian Restaurant would be close to downtown Providence but towards the west side of the city. It is interesting to note however that based on the placement of the centers there are more busy food areas in the southern part of Providence, while there are more Indian restaurants generally in the north. Which is why the central area of downtown is probably the best combination."
   ]
  },
  {
   "cell_type": "markdown",
   "metadata": {},
   "source": [
    "***Conclusion***"
   ]
  },
  {
   "cell_type": "markdown",
   "metadata": {},
   "source": [
    "In order to ensure commercial success, maximize revenue, and to ensure investors get a return on investment, a new Indian Restaurant must be careful in where it decides to open. The right location guarantees a steady influx of customers by being in an area already successful in terms of being accessible and known for having food venues, but also by avoiding being too close to other Indian Restaurants, reducing their ability to pull away potential customers."
   ]
  }
 ],
 "metadata": {
  "kernelspec": {
   "display_name": "Python 3",
   "language": "python",
   "name": "python3"
  },
  "language_info": {
   "codemirror_mode": {
    "name": "ipython",
    "version": 3
   },
   "file_extension": ".py",
   "mimetype": "text/x-python",
   "name": "python",
   "nbconvert_exporter": "python",
   "pygments_lexer": "ipython3",
   "version": "3.6.7"
  }
 },
 "nbformat": 4,
 "nbformat_minor": 4
}
